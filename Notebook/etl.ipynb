{
 "cells": [
  {
   "cell_type": "markdown",
   "id": "85167f20",
   "metadata": {},
   "source": [
    "# ***NoteBook ETL***"
   ]
  },
  {
   "cell_type": "markdown",
   "id": "a20ab510",
   "metadata": {},
   "source": [
    "***Config***"
   ]
  },
  {
   "cell_type": "code",
   "execution_count": null,
   "id": "bfb72efd",
   "metadata": {
    "vscode": {
     "languageId": "plaintext"
    }
   },
   "outputs": [],
   "source": [
    "class Config:\n",
    "    INPUT_PATH = 'Extract/Files/stock_senti_analysis.csv'\n",
    "    SQLITE_DB_PATH = 'Extract/Files/stock_senti_analysis.db'\n",
    "    SQLITE_TABLE = 'ride_bookings_clean'\n",
    "    OUTPUT_PATH = 'Extract/Files/stock_senti_analysis_clean.csv'   "
   ]
  },
  {
   "cell_type": "markdown",
   "id": "fc8f53ad",
   "metadata": {},
   "source": [
    "***Extract***"
   ]
  },
  {
   "cell_type": "code",
   "execution_count": null,
   "id": "e737c8c9",
   "metadata": {
    "vscode": {
     "languageId": "plaintext"
    }
   },
   "outputs": [],
   "source": [
    "class Extractor:\n",
    "    \"\"\"\n",
    "    Clase para extraer datos de archivos fuente.\n",
    "    \"\"\"\n",
    "    def __init__(self, file_path):\n",
    "        self.file_path = file_path\n",
    "\n",
    "    def extract(self):\n",
    "        import pandas as pd\n",
    "\n",
    "\n",
    "        encodings = ['utf-8', 'latin-1', 'ISO-8859-1', 'cp1252']\n",
    "\n",
    "        for enc in encodings:\n",
    "            try:\n",
    "                df = pd.read_csv(self.file_path, encoding=enc)\n",
    "                print(f\"Archivo leído correctamente con codificación: {enc}\")\n",
    "                return df\n",
    "            except UnicodeDecodeError:\n",
    "                continue\n",
    "            except Exception as e:\n",
    "                print(f\"Error con la codificación {enc}: {e}\")\n",
    "                return None\n",
    "\n",
    "        print(\"No se pudo leer el archivo con ninguna codificación común.\")\n",
    "        return None"
   ]
  },
  {
   "cell_type": "markdown",
   "id": "774e9744",
   "metadata": {},
   "source": [
    "***Load***"
   ]
  },
  {
   "cell_type": "code",
   "execution_count": null,
   "id": "62af3520",
   "metadata": {
    "vscode": {
     "languageId": "plaintext"
    }
   },
   "outputs": [],
   "source": [
    "from Config.config import Config\n",
    "import sqlite3\n",
    "import os\n",
    "\n",
    "class Loader:\n",
    "\n",
    "    def __init__(self, df):\n",
    "        self.df = df\n",
    "\n",
    "    def to_csv(self, output_path):\n",
    "        try:\n",
    "            \n",
    "            os.makedirs(os.path.dirname(output_path), exist_ok=True)\n",
    "\n",
    "            self.df.to_csv(output_path, index=False)\n",
    "            print(f\"Datos guardados en {output_path}\")\n",
    "        except Exception as e:\n",
    "            print(f\"Error al guardar datos: {e}\")"
   ]
  },
  {
   "cell_type": "markdown",
   "id": "69ef16e5",
   "metadata": {},
   "source": [
    "***Transformer***"
   ]
  },
  {
   "cell_type": "code",
   "execution_count": null,
   "id": "5dc2606c",
   "metadata": {
    "vscode": {
     "languageId": "plaintext"
    }
   },
   "outputs": [],
   "source": [
    "import pandas as pd\n",
    "\n",
    "class Transformer:\n",
    "    \n",
    "    def __init__(self, df):\n",
    "        self.df = df\n",
    "\n",
    "    def clean(self):\n",
    "        df = self.df.copy()\n",
    "\n",
    "        if 'Date' in df.columns:\n",
    "            df['Date'] = pd.to_datetime(df['Date'], errors='coerce')\n",
    "\n",
    "        df = df.dropna(subset=['Date', 'Label'])\n",
    "\n",
    "        df = df.drop_duplicates()\n",
    "        top_cols = [col for col in df.columns if col.startswith(\"Top\")]\n",
    "        for col in top_cols:\n",
    "            df[col] = (\n",
    "                df[col]\n",
    "                .fillna('')\n",
    "                .astype(str)\n",
    "                .str.strip()\n",
    "                .str.replace(r'\\s+', ' ', regex=True)\n",
    "            )\n",
    "\n",
    "        df['Label'] = pd.to_numeric(df['Label'], errors='coerce').fillna(0).astype(int)\n",
    "\n",
    "        self.df = df\n",
    "        return self.df"
   ]
  },
  {
   "cell_type": "markdown",
   "id": "9c68e329",
   "metadata": {},
   "source": [
    "***Main***"
   ]
  },
  {
   "cell_type": "code",
   "execution_count": null,
   "id": "601f0ecd",
   "metadata": {
    "vscode": {
     "languageId": "plaintext"
    }
   },
   "outputs": [],
   "source": [
    "from Config.config import Config\n",
    "from Extract.extractor import Extractor\n",
    "from Transform.transformer import Transformer\n",
    "from Load.loader import Loader\n",
    "from Visualize.plots import create_plots\n",
    "import os\n",
    "\n",
    "def main():\n",
    "    # Extraer datos\n",
    "    extractor = Extractor(Config.INPUT_PATH)\n",
    "    raw_data = extractor.extract()\n",
    "\n",
    "    if raw_data is not None:\n",
    "        # Limpiar los datos\n",
    "        transformer = Transformer(raw_data)\n",
    "        cleaned_data = transformer.clean()\n",
    "\n",
    "        # Verificar que los datos limpios no están vacíos\n",
    "        if cleaned_data.empty:\n",
    "            print(\"Error: Los datos limpios están vacíos.\")\n",
    "            return\n",
    "\n",
    "        # Crear la carpeta de destino para el archivo CSV si no existe\n",
    "        os.makedirs(os.path.dirname(Config.OUTPUT_PATH), exist_ok=True)\n",
    "\n",
    "        # Guardar los datos limpios en un archivo CSV\n",
    "        loader = Loader(cleaned_data)\n",
    "        print(f\"Guardando archivo limpio en {Config.OUTPUT_PATH}\")\n",
    "        loader.to_csv(Config.OUTPUT_PATH)\n",
    "\n",
    "        # Verificar si el archivo CSV se ha guardado\n",
    "        if not os.path.exists(Config.OUTPUT_PATH):\n",
    "            print(f\"Error: No se ha encontrado el archivo CSV en {Config.OUTPUT_PATH}\")\n",
    "            return\n",
    "\n",
    "        # Crear las gráficas\n",
    "        print(\"Generando las gráficas...\")\n",
    "        create_plots(Config.OUTPUT_PATH)\n",
    "\n",
    "    else:\n",
    "        print(\"No se pudo extraer el archivo de datos.\")\n",
    "\n",
    "if __name__ == \"__main__\":\n",
    "    main()"
   ]
  },
  {
   "cell_type": "markdown",
   "id": "fdcdf173",
   "metadata": {},
   "source": [
    "***Plots***"
   ]
  },
  {
   "cell_type": "code",
   "execution_count": null,
   "id": "9a6c9e53",
   "metadata": {
    "vscode": {
     "languageId": "plaintext"
    }
   },
   "outputs": [],
   "source": [
    "import pandas as pd\n",
    "import matplotlib.pyplot as plt\n",
    "import seaborn as sns\n",
    "import os\n",
    "from Config.config import Config\n",
    "\n",
    "sns.set_palette(\"pastel\")\n",
    "sns.set_style(\"whitegrid\")\n",
    "\n",
    "def create_plots(output_path=None):\n",
    "    output_path = output_path or Config.OUTPUT_PATH\n",
    "    output_dir = \"Visualize/Plots\"\n",
    "    os.makedirs(output_dir, exist_ok=True)\n",
    "\n",
    "    if not os.path.exists(output_path):\n",
    "        print(f\"Error: el archivo {output_path} no existe.\")\n",
    "        return\n",
    "\n",
    "    df = pd.read_csv(output_path)\n",
    "    df[\"Date\"] = pd.to_datetime(df[\"Date\"], errors=\"coerce\")\n",
    "    df = df.dropna(subset=[\"Date\"])\n",
    "\n",
    "    # - 1. Distribución de etiquetas -\n",
    "    plt.figure(figsize=(6, 4))\n",
    "    sns.countplot(data=df, x=\"Label\", hue=\"Label\", palette=\"pastel\", legend=False)\n",
    "    plt.title(\"Distribución de sentimientos\")\n",
    "    plt.xlabel(\"Etiqueta (0 = Negativo, 1 = Positivo)\")\n",
    "    plt.ylabel(\"Cantidad\")\n",
    "    plt.tight_layout()\n",
    "    plt.savefig(f\"{output_dir}/01_distribucion_etiquetas.png\")\n",
    "    plt.close()\n",
    "\n",
    "    # - 2. Promedio de titulares por trimestre -\n",
    "    df[\"num_headlines\"] = df[[col for col in df.columns if col.startswith(\"Top\")]].notnull().sum(axis=1)\n",
    "    headlines_per_date = df.groupby(pd.Grouper(key=\"Date\", freq=\"QE\"))[\"num_headlines\"].mean().reset_index()\n",
    "\n",
    "    plt.figure(figsize=(9, 5))\n",
    "    sns.lineplot(data=headlines_per_date, x=\"Date\", y=\"num_headlines\", marker=\"o\", linewidth=2.2)\n",
    "    plt.title(\"Promedio de titulares por trimestre\")\n",
    "    plt.xlabel(\"Fecha\")\n",
    "    plt.ylabel(\"Promedio de titulares\")\n",
    "    plt.xticks(rotation=30)\n",
    "    plt.tight_layout()\n",
    "    plt.savefig(f\"{output_dir}/02_titulares_trimestre.png\")\n",
    "    plt.close()\n",
    "\n",
    "    # - 3. Longitud promedio de titulares -\n",
    "    top_cols = [col for col in df.columns if col.startswith(\"Top\")]\n",
    "    df[\"avg_title_length\"] = df[top_cols].apply(\n",
    "        lambda row: sum(len(str(x).split()) for x in row if isinstance(x, str) and x.strip()) / \n",
    "                    sum(1 for x in row if isinstance(x, str) and x.strip()) if any(isinstance(x, str) for x in row) else 0,\n",
    "        axis=1\n",
    "    )\n",
    "    title_length_per_date = df.groupby(pd.Grouper(key=\"Date\", freq=\"QE\"))[\"avg_title_length\"].mean().reset_index()\n",
    "\n",
    "    plt.figure(figsize=(9, 5))\n",
    "    sns.lineplot(data=title_length_per_date, x=\"Date\", y=\"avg_title_length\", marker=\"o\", color=\"teal\", linewidth=2.2)\n",
    "    plt.title(\"Longitud promedio de titulares (trimestral)\")\n",
    "    plt.xlabel(\"Fecha\")\n",
    "    plt.ylabel(\"Palabras promedio por titular\")\n",
    "    plt.xticks(rotation=30)\n",
    "    plt.tight_layout()\n",
    "    plt.savefig(f\"{output_dir}/03_longitud_titulares.png\")\n",
    "    plt.close()\n",
    "\n",
    "    # - 4. Tendencia de sentimiento -\n",
    "    sentiment_trend = (\n",
    "        df.groupby([pd.Grouper(key=\"Date\", freq=\"QE\"), \"Label\"]).size().reset_index(name=\"count\")\n",
    "    )\n",
    "    plt.figure(figsize=(9, 5))\n",
    "    sns.lineplot(data=sentiment_trend, x=\"Date\", y=\"count\", hue=\"Label\", linewidth=2.2, marker=\"o\")\n",
    "    plt.title(\"Tendencia de sentimiento por trimestre\")\n",
    "    plt.xlabel(\"Fecha\")\n",
    "    plt.ylabel(\"Cantidad de noticias\")\n",
    "    plt.legend(title=\"Sentimiento\", labels=[\"Negativo (0)\", \"Positivo (1)\"])\n",
    "    plt.xticks(rotation=30)\n",
    "    plt.tight_layout()\n",
    "    plt.savefig(f\"{output_dir}/04_tendencia_sentimiento.png\")\n",
    "    plt.close()\n",
    "\n",
    "    # - 5. Comparación titulares vs longitud -\n",
    "    merged = pd.merge(headlines_per_date, title_length_per_date, on=\"Date\")\n",
    "    plt.figure(figsize=(9, 5))\n",
    "    ax1 = plt.gca()\n",
    "    sns.lineplot(data=merged, x=\"Date\", y=\"num_headlines\", ax=ax1, color=\"purple\", linewidth=2.2, label=\"Titulares\")\n",
    "    ax2 = ax1.twinx()\n",
    "    sns.lineplot(data=merged, x=\"Date\", y=\"avg_title_length\", ax=ax2, color=\"teal\", linewidth=2.2, label=\"Longitud\")\n",
    "    ax1.set_xlabel(\"Fecha\")\n",
    "    ax1.set_ylabel(\"Titulares promedio\", color=\"purple\")\n",
    "    ax2.set_ylabel(\"Longitud promedio\", color=\"teal\")\n",
    "    plt.title(\"Comparación titulares vs longitud promedio (trimestral)\")\n",
    "    plt.xticks(rotation=30)\n",
    "    plt.tight_layout()\n",
    "    plt.savefig(f\"{output_dir}/05_comparacion_titulares_longitud.png\")\n",
    "    plt.close()\n",
    "\n",
    "    print(f\"Gráficas más limpias y legibles generadas en {output_dir}\")"
   ]
  }
 ],
 "metadata": {
  "language_info": {
   "name": "python"
  }
 },
 "nbformat": 4,
 "nbformat_minor": 5
}
